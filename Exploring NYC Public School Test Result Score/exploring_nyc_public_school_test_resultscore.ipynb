{
 "cells": [
  {
   "cell_type": "code",
   "execution_count": 1,
   "metadata": {},
   "outputs": [
    {
     "data": {
      "text/html": [
       "<div>\n",
       "<style scoped>\n",
       "    .dataframe tbody tr th:only-of-type {\n",
       "        vertical-align: middle;\n",
       "    }\n",
       "\n",
       "    .dataframe tbody tr th {\n",
       "        vertical-align: top;\n",
       "    }\n",
       "\n",
       "    .dataframe thead th {\n",
       "        text-align: right;\n",
       "    }\n",
       "</style>\n",
       "<table border=\"1\" class=\"dataframe\">\n",
       "  <thead>\n",
       "    <tr style=\"text-align: right;\">\n",
       "      <th></th>\n",
       "      <th>school_name</th>\n",
       "      <th>borough</th>\n",
       "      <th>building_code</th>\n",
       "      <th>average_math</th>\n",
       "      <th>average_reading</th>\n",
       "      <th>average_writing</th>\n",
       "      <th>percent_tested</th>\n",
       "    </tr>\n",
       "  </thead>\n",
       "  <tbody>\n",
       "    <tr>\n",
       "      <th>0</th>\n",
       "      <td>New Explorations into Science, Technology and ...</td>\n",
       "      <td>Manhattan</td>\n",
       "      <td>M022</td>\n",
       "      <td>657</td>\n",
       "      <td>601</td>\n",
       "      <td>601</td>\n",
       "      <td>NaN</td>\n",
       "    </tr>\n",
       "    <tr>\n",
       "      <th>1</th>\n",
       "      <td>Essex Street Academy</td>\n",
       "      <td>Manhattan</td>\n",
       "      <td>M445</td>\n",
       "      <td>395</td>\n",
       "      <td>411</td>\n",
       "      <td>387</td>\n",
       "      <td>78.9</td>\n",
       "    </tr>\n",
       "    <tr>\n",
       "      <th>2</th>\n",
       "      <td>Lower Manhattan Arts Academy</td>\n",
       "      <td>Manhattan</td>\n",
       "      <td>M445</td>\n",
       "      <td>418</td>\n",
       "      <td>428</td>\n",
       "      <td>415</td>\n",
       "      <td>65.1</td>\n",
       "    </tr>\n",
       "    <tr>\n",
       "      <th>3</th>\n",
       "      <td>High School for Dual Language and Asian Studies</td>\n",
       "      <td>Manhattan</td>\n",
       "      <td>M445</td>\n",
       "      <td>613</td>\n",
       "      <td>453</td>\n",
       "      <td>463</td>\n",
       "      <td>95.9</td>\n",
       "    </tr>\n",
       "    <tr>\n",
       "      <th>4</th>\n",
       "      <td>Henry Street School for International Studies</td>\n",
       "      <td>Manhattan</td>\n",
       "      <td>M056</td>\n",
       "      <td>410</td>\n",
       "      <td>406</td>\n",
       "      <td>381</td>\n",
       "      <td>59.7</td>\n",
       "    </tr>\n",
       "  </tbody>\n",
       "</table>\n",
       "</div>"
      ],
      "text/plain": [
       "                                         school_name    borough building_code  \\\n",
       "0  New Explorations into Science, Technology and ...  Manhattan          M022   \n",
       "1                               Essex Street Academy  Manhattan          M445   \n",
       "2                       Lower Manhattan Arts Academy  Manhattan          M445   \n",
       "3    High School for Dual Language and Asian Studies  Manhattan          M445   \n",
       "4      Henry Street School for International Studies  Manhattan          M056   \n",
       "\n",
       "   average_math  average_reading  average_writing  percent_tested  \n",
       "0           657              601              601             NaN  \n",
       "1           395              411              387            78.9  \n",
       "2           418              428              415            65.1  \n",
       "3           613              453              463            95.9  \n",
       "4           410              406              381            59.7  "
      ]
     },
     "execution_count": 1,
     "metadata": {},
     "output_type": "execute_result"
    }
   ],
   "source": [
    "import pandas as pd\n",
    "\n",
    "# Read in the data\n",
    "schools = pd.read_csv(\"schools.csv\")\n",
    "\n",
    "# Preview the data\n",
    "schools.head()"
   ]
  },
  {
   "cell_type": "code",
   "execution_count": 2,
   "metadata": {},
   "outputs": [],
   "source": [
    "schools_df = pd.read_csv(\"schools.csv\")"
   ]
  },
  {
   "cell_type": "code",
   "execution_count": 3,
   "metadata": {},
   "outputs": [
    {
     "name": "stdout",
     "output_type": "stream",
     "text": [
      "  school_name  average_math\n",
      "2    School C           850\n",
      "0    School A           820\n",
      "1    School B           780\n",
      "3    School D           640\n"
     ]
    }
   ],
   "source": [
    "import pandas as pd\n",
    "\n",
    "# Example DataFrame creation for demonstration (you should replace this with your actual DataFrame)\n",
    "data = {\n",
    "    'school_name': ['School A', 'School B', 'School C', 'School D'],\n",
    "    'math_score': [820, 780, 850, 640]\n",
    "}\n",
    "schools_df = pd.DataFrame(data)\n",
    "\n",
    "# Now, let's filter the schools with high math scores\n",
    "best_math_schools = schools_df[schools_df['math_score'] >= 0.8 * 800]\n",
    "best_math_schools['average_math'] = best_math_schools['math_score']\n",
    "best_math_schools = best_math_schools[['school_name', 'average_math']].sort_values(by='average_math', ascending=False)\n",
    "\n",
    "# Display the result\n",
    "print(best_math_schools)"
   ]
  }
 ],
 "metadata": {
  "kernelspec": {
   "display_name": "arewads",
   "language": "python",
   "name": "python3"
  },
  "language_info": {
   "codemirror_mode": {
    "name": "ipython",
    "version": 3
   },
   "file_extension": ".py",
   "mimetype": "text/x-python",
   "name": "python",
   "nbconvert_exporter": "python",
   "pygments_lexer": "ipython3",
   "version": "3.10.14"
  }
 },
 "nbformat": 4,
 "nbformat_minor": 2
}
