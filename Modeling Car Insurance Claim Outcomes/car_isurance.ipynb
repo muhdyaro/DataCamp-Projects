{
 "cells": [
  {
   "cell_type": "code",
   "execution_count": 14,
   "metadata": {},
   "outputs": [],
   "source": [
    "# Import required modules\n",
    "import pandas as pd\n",
    "import numpy as np\n",
    "\n"
   ]
  },
  {
   "cell_type": "code",
   "execution_count": 15,
   "metadata": {},
   "outputs": [],
   "source": [
    "# Read in dataset\n",
    "cars = pd.read_csv(\"car_insurance.csv\")"
   ]
  },
  {
   "cell_type": "code",
   "execution_count": 16,
   "metadata": {},
   "outputs": [
    {
     "name": "stdout",
     "output_type": "stream",
     "text": [
      "<class 'pandas.core.frame.DataFrame'>\n",
      "RangeIndex: 10000 entries, 0 to 9999\n",
      "Data columns (total 18 columns):\n",
      " #   Column               Non-Null Count  Dtype  \n",
      "---  ------               --------------  -----  \n",
      " 0   id                   10000 non-null  int64  \n",
      " 1   age                  10000 non-null  int64  \n",
      " 2   gender               10000 non-null  int64  \n",
      " 3   driving_experience   10000 non-null  object \n",
      " 4   education            10000 non-null  object \n",
      " 5   income               10000 non-null  object \n",
      " 6   credit_score         9018 non-null   float64\n",
      " 7   vehicle_ownership    10000 non-null  float64\n",
      " 8   vehicle_year         10000 non-null  object \n",
      " 9   married              10000 non-null  float64\n",
      " 10  children             10000 non-null  float64\n",
      " 11  postal_code          10000 non-null  int64  \n",
      " 12  annual_mileage       9043 non-null   float64\n",
      " 13  vehicle_type         10000 non-null  object \n",
      " 14  speeding_violations  10000 non-null  int64  \n",
      " 15  duis                 10000 non-null  int64  \n",
      " 16  past_accidents       10000 non-null  int64  \n",
      " 17  outcome              10000 non-null  float64\n",
      "dtypes: float64(6), int64(7), object(5)\n",
      "memory usage: 1.4+ MB\n"
     ]
    }
   ],
   "source": [
    "# Check for missing values\n",
    "cars.info()"
   ]
  },
  {
   "cell_type": "code",
   "execution_count": 17,
   "metadata": {},
   "outputs": [
    {
     "name": "stderr",
     "output_type": "stream",
     "text": [
      "C:\\Users\\My Pc\\AppData\\Local\\Temp\\ipykernel_14364\\103918218.py:2: FutureWarning: A value is trying to be set on a copy of a DataFrame or Series through chained assignment using an inplace method.\n",
      "The behavior will change in pandas 3.0. This inplace method will never work because the intermediate object on which we are setting values always behaves as a copy.\n",
      "\n",
      "For example, when doing 'df[col].method(value, inplace=True)', try using 'df.method({col: value}, inplace=True)' or df[col] = df[col].method(value) instead, to perform the operation inplace on the original object.\n",
      "\n",
      "\n",
      "  cars[\"credit_score\"].fillna(cars[\"credit_score\"].mean(), inplace=True)\n",
      "C:\\Users\\My Pc\\AppData\\Local\\Temp\\ipykernel_14364\\103918218.py:3: FutureWarning: A value is trying to be set on a copy of a DataFrame or Series through chained assignment using an inplace method.\n",
      "The behavior will change in pandas 3.0. This inplace method will never work because the intermediate object on which we are setting values always behaves as a copy.\n",
      "\n",
      "For example, when doing 'df[col].method(value, inplace=True)', try using 'df.method({col: value}, inplace=True)' or df[col] = df[col].method(value) instead, to perform the operation inplace on the original object.\n",
      "\n",
      "\n",
      "  cars[\"annual_mileage\"].fillna(cars[\"annual_mileage\"].mean(), inplace=True)\n"
     ]
    },
    {
     "ename": "NameError",
     "evalue": "name 'logit' is not defined",
     "output_type": "error",
     "traceback": [
      "\u001b[1;31m---------------------------------------------------------------------------\u001b[0m",
      "\u001b[1;31mNameError\u001b[0m                                 Traceback (most recent call last)",
      "Cell \u001b[1;32mIn[17], line 14\u001b[0m\n\u001b[0;32m     11\u001b[0m \u001b[38;5;66;03m# Loop through features\u001b[39;00m\n\u001b[0;32m     12\u001b[0m \u001b[38;5;28;01mfor\u001b[39;00m col \u001b[38;5;129;01min\u001b[39;00m features:\n\u001b[0;32m     13\u001b[0m     \u001b[38;5;66;03m# Create a model\u001b[39;00m\n\u001b[1;32m---> 14\u001b[0m     model \u001b[38;5;241m=\u001b[39m \u001b[43mlogit\u001b[49m(\u001b[38;5;124mf\u001b[39m\u001b[38;5;124m\"\u001b[39m\u001b[38;5;124moutcome ~ \u001b[39m\u001b[38;5;132;01m{\u001b[39;00mcol\u001b[38;5;132;01m}\u001b[39;00m\u001b[38;5;124m\"\u001b[39m, data\u001b[38;5;241m=\u001b[39mcars)\u001b[38;5;241m.\u001b[39mfit()\n\u001b[0;32m     15\u001b[0m     \u001b[38;5;66;03m# Add each model to the models list\u001b[39;00m\n\u001b[0;32m     16\u001b[0m     models\u001b[38;5;241m.\u001b[39mappend(model)\n",
      "\u001b[1;31mNameError\u001b[0m: name 'logit' is not defined"
     ]
    }
   ],
   "source": [
    "# Fill missing values with the mean\n",
    "cars[\"credit_score\"].fillna(cars[\"credit_score\"].mean(), inplace=True)\n",
    "cars[\"annual_mileage\"].fillna(cars[\"annual_mileage\"].mean(), inplace=True)\n",
    "\n",
    "# Empty list to store model results\n",
    "models = []\n",
    "\n",
    "# Feature columns\n",
    "features = cars.drop(columns=[\"id\", \"outcome\"]).columns\n",
    "\n",
    "# Loop through features\n",
    "for col in features:\n",
    "    # Create a model\n",
    "    model = logit(f\"outcome ~ {col}\", data=cars).fit()\n",
    "    # Add each model to the models list\n",
    "    models.append(model)\n",
    "\n",
    "# Empty list to store accuracies\n",
    "accuracies = []\n",
    "\n",
    "# Loop through models\n",
    "for feature in range(0, len(models)):\n",
    "    # Compute the confusion matrix\n",
    "    conf_matrix = models[feature].pred_table()\n",
    "    # True negatives\n",
    "    tn = conf_matrix[0,0]\n",
    "    # True positives\n",
    "    tp = conf_matrix[1,1]\n",
    "    # False negatives\n",
    "    fn = conf_matrix[1,0]\n",
    "    # False positives\n",
    "    fp = conf_matrix[0,1]\n",
    "    # Compute accuracy\n",
    "    acc = (tn + tp) / (tn + fn + fp + tp)\n",
    "    accuracies.append(acc)\n",
    "\n",
    "# Find the feature with the largest accuracy\n",
    "best_feature = features[accuracies.index(max(accuracies))]\n",
    "\n",
    "# Create best_feature_df\n",
    "best_feature_df = pd.DataFrame({\"best_feature\": best_feature,\n",
    "                                \"best_accuracy\": max(accuracies)},\n",
    "                                index=[0])\n",
    "best_feature_df"
   ]
  }
 ],
 "metadata": {
  "kernelspec": {
   "display_name": "arewads",
   "language": "python",
   "name": "python3"
  },
  "language_info": {
   "codemirror_mode": {
    "name": "ipython",
    "version": 3
   },
   "file_extension": ".py",
   "mimetype": "text/x-python",
   "name": "python",
   "nbconvert_exporter": "python",
   "pygments_lexer": "ipython3",
   "version": "3.10.14"
  }
 },
 "nbformat": 4,
 "nbformat_minor": 2
}
